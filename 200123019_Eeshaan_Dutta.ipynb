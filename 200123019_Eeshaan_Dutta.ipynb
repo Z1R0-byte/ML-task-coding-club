{
 "cells": [
  {
   "cell_type": "code",
   "execution_count": 1,
   "id": "1c61a0ce-234c-46f2-8c05-92294dee0ed7",
   "metadata": {},
   "outputs": [],
   "source": [
    "import pandas as pd\n",
    "from sklearn.model_selection import train_test_split\n",
    "df = pd.read_csv('D:\\Machine learning\\Pandas_tutorial\\pikapika\\MLtask.csv')"
   ]
  },
  {
   "cell_type": "code",
   "execution_count": 2,
   "id": "a4d7d937-35d5-445d-967b-3a1a44f3d98f",
   "metadata": {},
   "outputs": [
    {
     "data": {
      "text/plain": [
       "ID                          0\n",
       "Segment type                0\n",
       "Segment Description         0\n",
       "Answer                      0\n",
       "Count                       0\n",
       "Percentage                  0\n",
       "It became a relationship    0\n",
       "dtype: int64"
      ]
     },
     "execution_count": 2,
     "metadata": {},
     "output_type": "execute_result"
    }
   ],
   "source": [
    "df.isnull().sum()"
   ]
  },
  {
   "cell_type": "code",
   "execution_count": 3,
   "id": "4e4cd02b-93e4-4e59-b8a7-47c911efef58",
   "metadata": {},
   "outputs": [],
   "source": [
    "# no NaN values"
   ]
  },
  {
   "cell_type": "code",
   "execution_count": 4,
   "id": "b7243d85-1770-4335-8d0a-e3f1846b30d0",
   "metadata": {},
   "outputs": [],
   "source": [
    "# creating dummies and splitting data\n",
    "new_df = pd.get_dummies(df, columns=['Answer', 'Segment type'])\n",
    "cols = list(new_df.columns.values)\n",
    "\n",
    "X = new_df[cols[2:4]+cols[5:]]\n",
    "y = new_df['It became a relationship']\n",
    "\n",
    "X_train, X_test, y_train, y_test = train_test_split(X, y, test_size=0.3)\n"
   ]
  },
  {
   "cell_type": "code",
   "execution_count": 5,
   "id": "8de9cc7f-660d-4665-ade2-c422fb005160",
   "metadata": {},
   "outputs": [],
   "source": [
    "# random tree algorithm\n",
    "from sklearn.ensemble import RandomForestClassifier\n",
    "\n",
    "clf = RandomForestClassifier(n_estimators=100)\n",
    "\n",
    "clf.fit(X_train, y_train)\n",
    "\n",
    "y_prediction = clf.predict(X_test)"
   ]
  },
  {
   "cell_type": "code",
   "execution_count": 6,
   "id": "3a2e8827-e4a9-4ae6-ad87-6161d15d53ac",
   "metadata": {},
   "outputs": [
    {
     "name": "stdout",
     "output_type": "stream",
     "text": [
      "Accuracy for random tree algo:  0.8857644991212654\n"
     ]
    }
   ],
   "source": [
    "# checking accuracy for random tree algorithm\n",
    "from sklearn import metrics\n",
    "\n",
    "print(\"Accuracy for random tree algo: \", metrics.accuracy_score(y_test, y_prediction))"
   ]
  },
  {
   "cell_type": "code",
   "execution_count": 7,
   "id": "aaf4115c-cc06-420e-a877-931084074498",
   "metadata": {},
   "outputs": [],
   "source": [
    "# changing hyperparameter\n",
    "clf1 = RandomForestClassifier(n_estimators=150)\n",
    "\n",
    "clf1.fit(X_train, y_train)\n",
    "\n",
    "y_prediction1 = clf1.predict(X_test)"
   ]
  },
  {
   "cell_type": "code",
   "execution_count": 8,
   "id": "b9d6c97e-5a8f-428d-9c41-6fcfe95b5538",
   "metadata": {},
   "outputs": [
    {
     "name": "stdout",
     "output_type": "stream",
     "text": [
      "Accuracy for random tree algo 1:  0.8910369068541301\n"
     ]
    }
   ],
   "source": [
    "print(\"Accuracy for random tree algo 1: \", metrics.accuracy_score(y_test,y_prediction1))"
   ]
  },
  {
   "cell_type": "code",
   "execution_count": 9,
   "id": "5379f5e6-d4f7-4af2-9c98-3e8f3bf3153e",
   "metadata": {},
   "outputs": [],
   "source": [
    "# logistic regression\n",
    "from sklearn.linear_model import LogisticRegression\n",
    "\n",
    "lreg = LogisticRegression(solver='lbfgs', max_iter= 2000, penalty= 'l2')\n",
    "lreg.fit(X_train, y_train)\n",
    "\n",
    "y_pred_lr = lreg.predict(X_test)"
   ]
  },
  {
   "cell_type": "code",
   "execution_count": 10,
   "id": "680d0ab2-d23a-444e-ac2d-7c7cad376e5c",
   "metadata": {},
   "outputs": [
    {
     "name": "stdout",
     "output_type": "stream",
     "text": [
      "Accuracy for lreg:  0.81195079086116\n"
     ]
    }
   ],
   "source": [
    "print(\"Accuracy for lreg: \", metrics.accuracy_score(y_test, y_pred_lr))"
   ]
  },
  {
   "cell_type": "code",
   "execution_count": null,
   "id": "37a67a2b-6fdb-42fc-b1b2-155c6d64fd76",
   "metadata": {},
   "outputs": [],
   "source": [
    "# "
   ]
  }
 ],
 "metadata": {
  "kernelspec": {
   "display_name": "Python 3",
   "language": "python",
   "name": "python3"
  },
  "language_info": {
   "codemirror_mode": {
    "name": "ipython",
    "version": 3
   },
   "file_extension": ".py",
   "mimetype": "text/x-python",
   "name": "python",
   "nbconvert_exporter": "python",
   "pygments_lexer": "ipython3",
   "version": "3.9.0"
  }
 },
 "nbformat": 4,
 "nbformat_minor": 5
}
