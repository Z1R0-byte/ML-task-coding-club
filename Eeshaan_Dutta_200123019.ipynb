{
 "cells": [
  {
   "cell_type": "code",
   "execution_count": 2,
   "id": "1c61a0ce-234c-46f2-8c05-92294dee0ed7",
   "metadata": {},
   "outputs": [
    {
     "data": {
      "text/html": [
       "<div>\n",
       "<style scoped>\n",
       "    .dataframe tbody tr th:only-of-type {\n",
       "        vertical-align: middle;\n",
       "    }\n",
       "\n",
       "    .dataframe tbody tr th {\n",
       "        vertical-align: top;\n",
       "    }\n",
       "\n",
       "    .dataframe thead th {\n",
       "        text-align: right;\n",
       "    }\n",
       "</style>\n",
       "<table border=\"1\" class=\"dataframe\">\n",
       "  <thead>\n",
       "    <tr style=\"text-align: right;\">\n",
       "      <th></th>\n",
       "      <th>ID</th>\n",
       "      <th>Segment type</th>\n",
       "      <th>Segment Description</th>\n",
       "      <th>Answer</th>\n",
       "      <th>Count</th>\n",
       "      <th>Percentage</th>\n",
       "      <th>It became a relationship</th>\n",
       "    </tr>\n",
       "  </thead>\n",
       "  <tbody>\n",
       "    <tr>\n",
       "      <th>0</th>\n",
       "      <td>292890.8970</td>\n",
       "      <td>web</td>\n",
       "      <td>Meridian, Idaho</td>\n",
       "      <td>No</td>\n",
       "      <td>0.000000</td>\n",
       "      <td>0.000000</td>\n",
       "      <td>0</td>\n",
       "    </tr>\n",
       "    <tr>\n",
       "      <th>1</th>\n",
       "      <td>292887.9870</td>\n",
       "      <td>web</td>\n",
       "      <td>Meridian, Idaho</td>\n",
       "      <td>No</td>\n",
       "      <td>0.000000</td>\n",
       "      <td>0.000000</td>\n",
       "      <td>0</td>\n",
       "    </tr>\n",
       "    <tr>\n",
       "      <th>2</th>\n",
       "      <td>292894.0656</td>\n",
       "      <td>gender</td>\n",
       "      <td>Meridian, Idaho</td>\n",
       "      <td>No</td>\n",
       "      <td>499.173606</td>\n",
       "      <td>0.225255</td>\n",
       "      <td>0</td>\n",
       "    </tr>\n",
       "    <tr>\n",
       "      <th>3</th>\n",
       "      <td>292887.1180</td>\n",
       "      <td>web</td>\n",
       "      <td>Meridian, Idaho</td>\n",
       "      <td>No</td>\n",
       "      <td>0.000000</td>\n",
       "      <td>0.000000</td>\n",
       "      <td>0</td>\n",
       "    </tr>\n",
       "    <tr>\n",
       "      <th>4</th>\n",
       "      <td>292893.6561</td>\n",
       "      <td>gender</td>\n",
       "      <td>Meridian, Idaho</td>\n",
       "      <td>No</td>\n",
       "      <td>455.925963</td>\n",
       "      <td>0.211360</td>\n",
       "      <td>0</td>\n",
       "    </tr>\n",
       "    <tr>\n",
       "      <th>...</th>\n",
       "      <td>...</td>\n",
       "      <td>...</td>\n",
       "      <td>...</td>\n",
       "      <td>...</td>\n",
       "      <td>...</td>\n",
       "      <td>...</td>\n",
       "      <td>...</td>\n",
       "    </tr>\n",
       "    <tr>\n",
       "      <th>1891</th>\n",
       "      <td>292887.5496</td>\n",
       "      <td>web</td>\n",
       "      <td>Meridian, Idaho</td>\n",
       "      <td>No</td>\n",
       "      <td>0.000000</td>\n",
       "      <td>0.000000</td>\n",
       "      <td>0</td>\n",
       "    </tr>\n",
       "    <tr>\n",
       "      <th>1892</th>\n",
       "      <td>292881.6932</td>\n",
       "      <td>mobile</td>\n",
       "      <td>Meridian, Idaho</td>\n",
       "      <td>No</td>\n",
       "      <td>1203.190399</td>\n",
       "      <td>0.312360</td>\n",
       "      <td>0</td>\n",
       "    </tr>\n",
       "    <tr>\n",
       "      <th>1893</th>\n",
       "      <td>292900.8499</td>\n",
       "      <td>gender</td>\n",
       "      <td>Meridian, Idaho</td>\n",
       "      <td>No</td>\n",
       "      <td>806.378820</td>\n",
       "      <td>0.488025</td>\n",
       "      <td>0</td>\n",
       "    </tr>\n",
       "    <tr>\n",
       "      <th>1894</th>\n",
       "      <td>292893.8600</td>\n",
       "      <td>gender</td>\n",
       "      <td>Meridian, Idaho</td>\n",
       "      <td>No</td>\n",
       "      <td>1149.529381</td>\n",
       "      <td>0.488984</td>\n",
       "      <td>0</td>\n",
       "    </tr>\n",
       "    <tr>\n",
       "      <th>1895</th>\n",
       "      <td>292890.2944</td>\n",
       "      <td>web</td>\n",
       "      <td>Meridian, Idaho</td>\n",
       "      <td>No</td>\n",
       "      <td>0.000000</td>\n",
       "      <td>0.000000</td>\n",
       "      <td>0</td>\n",
       "    </tr>\n",
       "  </tbody>\n",
       "</table>\n",
       "<p>1896 rows × 7 columns</p>\n",
       "</div>"
      ],
      "text/plain": [
       "               ID Segment type Segment Description Answer        Count  \\\n",
       "0     292890.8970          web     Meridian, Idaho     No     0.000000   \n",
       "1     292887.9870          web     Meridian, Idaho     No     0.000000   \n",
       "2     292894.0656       gender     Meridian, Idaho     No   499.173606   \n",
       "3     292887.1180          web     Meridian, Idaho     No     0.000000   \n",
       "4     292893.6561       gender     Meridian, Idaho     No   455.925963   \n",
       "...           ...          ...                 ...    ...          ...   \n",
       "1891  292887.5496          web     Meridian, Idaho     No     0.000000   \n",
       "1892  292881.6932       mobile     Meridian, Idaho     No  1203.190399   \n",
       "1893  292900.8499       gender     Meridian, Idaho     No   806.378820   \n",
       "1894  292893.8600       gender     Meridian, Idaho     No  1149.529381   \n",
       "1895  292890.2944          web     Meridian, Idaho     No     0.000000   \n",
       "\n",
       "      Percentage  It became a relationship  \n",
       "0       0.000000                         0  \n",
       "1       0.000000                         0  \n",
       "2       0.225255                         0  \n",
       "3       0.000000                         0  \n",
       "4       0.211360                         0  \n",
       "...          ...                       ...  \n",
       "1891    0.000000                         0  \n",
       "1892    0.312360                         0  \n",
       "1893    0.488025                         0  \n",
       "1894    0.488984                         0  \n",
       "1895    0.000000                         0  \n",
       "\n",
       "[1896 rows x 7 columns]"
      ]
     },
     "execution_count": 2,
     "metadata": {},
     "output_type": "execute_result"
    }
   ],
   "source": [
    "import pandas as pd\n",
    "from sklearn.model_selection import train_test_split\n",
    "# changed csv file name from task2 to Mltask\n",
    "df = pd.read_csv('D:\\Machine learning\\Pandas_tutorial\\pikapika\\MLtask.csv')\n",
    "df"
   ]
  },
  {
   "cell_type": "code",
   "execution_count": 2,
   "id": "a4d7d937-35d5-445d-967b-3a1a44f3d98f",
   "metadata": {},
   "outputs": [
    {
     "data": {
      "text/plain": [
       "ID                          0\n",
       "Segment type                0\n",
       "Segment Description         0\n",
       "Answer                      0\n",
       "Count                       0\n",
       "Percentage                  0\n",
       "It became a relationship    0\n",
       "dtype: int64"
      ]
     },
     "execution_count": 2,
     "metadata": {},
     "output_type": "execute_result"
    }
   ],
   "source": [
    "df.isnull().sum()"
   ]
  },
  {
   "cell_type": "code",
   "execution_count": 3,
   "id": "4e4cd02b-93e4-4e59-b8a7-47c911efef58",
   "metadata": {},
   "outputs": [],
   "source": [
    "# no NaN values"
   ]
  },
  {
   "cell_type": "code",
   "execution_count": 4,
   "id": "b7243d85-1770-4335-8d0a-e3f1846b30d0",
   "metadata": {},
   "outputs": [],
   "source": [
    "# creating dummies and splitting data\n",
    "new_df = pd.get_dummies(df, columns=['Answer', 'Segment type'])\n",
    "# 'Segment Description', 'ID' are n\n",
    "cols = list(new_df.columns.values)\n",
    "\n",
    "X = new_df[cols[2:4]+cols[5:]]\n",
    "y = new_df['It became a relationship']\n",
    "\n",
    "X_train, X_test, y_train, y_test = train_test_split(X, y, test_size=0.3)\n"
   ]
  },
  {
   "cell_type": "code",
   "execution_count": 5,
   "id": "8de9cc7f-660d-4665-ade2-c422fb005160",
   "metadata": {},
   "outputs": [],
   "source": [
    "# random tree algorithm\n",
    "from sklearn.ensemble import RandomForestClassifier\n",
    "\n",
    "clf = RandomForestClassifier(n_estimators=100)\n",
    "\n",
    "clf.fit(X_train, y_train)\n",
    "\n",
    "y_prediction = clf.predict(X_test)"
   ]
  },
  {
   "cell_type": "code",
   "execution_count": 6,
   "id": "3a2e8827-e4a9-4ae6-ad87-6161d15d53ac",
   "metadata": {},
   "outputs": [
    {
     "name": "stdout",
     "output_type": "stream",
     "text": [
      "Accuracy for random tree algo:  0.8857644991212654\n"
     ]
    }
   ],
   "source": [
    "# checking accuracy for random tree algorithm\n",
    "from sklearn import metrics\n",
    "\n",
    "print(\"Accuracy for random tree algo: \", metrics.accuracy_score(y_test, y_prediction))"
   ]
  },
  {
   "cell_type": "code",
   "execution_count": 7,
   "id": "aaf4115c-cc06-420e-a877-931084074498",
   "metadata": {},
   "outputs": [],
   "source": [
    "# changing hyperparameter\n",
    "clf1 = RandomForestClassifier(n_estimators=150)\n",
    "\n",
    "clf1.fit(X_train, y_train)\n",
    "\n",
    "y_prediction1 = clf1.predict(X_test)"
   ]
  },
  {
   "cell_type": "code",
   "execution_count": 8,
   "id": "b9d6c97e-5a8f-428d-9c41-6fcfe95b5538",
   "metadata": {},
   "outputs": [
    {
     "name": "stdout",
     "output_type": "stream",
     "text": [
      "Accuracy for random tree algo 1:  0.8910369068541301\n"
     ]
    }
   ],
   "source": [
    "print(\"Accuracy for random tree algo 1: \", metrics.accuracy_score(y_test,y_prediction1))"
   ]
  },
  {
   "cell_type": "code",
   "execution_count": 9,
   "id": "5379f5e6-d4f7-4af2-9c98-3e8f3bf3153e",
   "metadata": {},
   "outputs": [],
   "source": [
    "# logistic regression\n",
    "from sklearn.linear_model import LogisticRegression\n",
    "\n",
    "lreg = LogisticRegression(solver='lbfgs', max_iter= 2000, penalty= 'l2')\n",
    "lreg.fit(X_train, y_train)\n",
    "\n",
    "y_pred_lr = lreg.predict(X_test)"
   ]
  },
  {
   "cell_type": "code",
   "execution_count": 10,
   "id": "680d0ab2-d23a-444e-ac2d-7c7cad376e5c",
   "metadata": {},
   "outputs": [
    {
     "name": "stdout",
     "output_type": "stream",
     "text": [
      "Accuracy for lreg:  0.81195079086116\n"
     ]
    }
   ],
   "source": [
    "print(\"Accuracy for lreg: \", metrics.accuracy_score(y_test, y_pred_lr))"
   ]
  },
  {
   "cell_type": "code",
   "execution_count": 11,
   "id": "37a67a2b-6fdb-42fc-b1b2-155c6d64fd76",
   "metadata": {},
   "outputs": [],
   "source": [
    "# changing hyperparameters\n",
    "lreg1 = LogisticRegression(solver='lbfgs', max_iter= 2000, penalty= 'none')\n",
    "lreg1.fit(X_train, y_train)\n",
    "\n",
    "y_pred_lr1 = lreg1.predict(X_test)"
   ]
  },
  {
   "cell_type": "code",
   "execution_count": 12,
   "id": "767894c1-5ba6-4a21-8a63-6e7100aa1732",
   "metadata": {},
   "outputs": [
    {
     "name": "stdout",
     "output_type": "stream",
     "text": [
      "Accuracy for lreg1:  0.8137082601054482\n"
     ]
    }
   ],
   "source": [
    "print(\"Accuracy for lreg1: \", metrics.accuracy_score(y_test, y_pred_lr1))"
   ]
  },
  {
   "cell_type": "code",
   "execution_count": null,
   "id": "d0898b13-278f-473c-9b12-76095ed8afb9",
   "metadata": {},
   "outputs": [],
   "source": []
  }
 ],
 "metadata": {
  "kernelspec": {
   "display_name": "Python 3",
   "language": "python",
   "name": "python3"
  },
  "language_info": {
   "codemirror_mode": {
    "name": "ipython",
    "version": 3
   },
   "file_extension": ".py",
   "mimetype": "text/x-python",
   "name": "python",
   "nbconvert_exporter": "python",
   "pygments_lexer": "ipython3",
   "version": "3.9.0"
  }
 },
 "nbformat": 4,
 "nbformat_minor": 5
}
